{
 "cells": [
  {
   "cell_type": "code",
   "execution_count": 3,
   "id": "00c7acc5-920f-4a52-b4f6-58eca72bbe67",
   "metadata": {},
   "outputs": [
    {
     "name": "stdout",
     "output_type": "stream",
     "text": [
      "Random Prompt: How many children did Leo Slezak have who were also actors?\n"
     ]
    }
   ],
   "source": [
    "from datasets import load_dataset\n",
    "\n",
    "# Load the Wikipedia_Person_Unlearn dataset\n",
    "dataset = load_dataset(\"Shiyu-Lab/Wikipedia_Person_Unlearn\", \"forget_100\")\n",
    "\n",
    "# Select a random prompt from the dataset\n",
    "random_prompt = dataset['train'].shuffle(seed=42).select(range(1))[0]['question']\n",
    "print(\"Random Prompt:\", random_prompt)\n"
   ]
  },
  {
   "cell_type": "code",
   "execution_count": 4,
   "id": "31121af6-666d-4454-9fcf-9983f3260c66",
   "metadata": {},
   "outputs": [
    {
     "name": "stderr",
     "output_type": "stream",
     "text": [
      "2024-11-07 15:18:22.615147: E external/local_xla/xla/stream_executor/cuda/cuda_dnn.cc:9261] Unable to register cuDNN factory: Attempting to register factory for plugin cuDNN when one has already been registered\n",
      "2024-11-07 15:18:22.615249: E external/local_xla/xla/stream_executor/cuda/cuda_fft.cc:607] Unable to register cuFFT factory: Attempting to register factory for plugin cuFFT when one has already been registered\n",
      "2024-11-07 15:18:22.963284: E external/local_xla/xla/stream_executor/cuda/cuda_blas.cc:1515] Unable to register cuBLAS factory: Attempting to register factory for plugin cuBLAS when one has already been registered\n",
      "2024-11-07 15:18:23.384052: I tensorflow/core/platform/cpu_feature_guard.cc:182] This TensorFlow binary is optimized to use available CPU instructions in performance-critical operations.\n",
      "To enable the following instructions: SSE4.1 SSE4.2 AVX AVX2 FMA, in other operations, rebuild TensorFlow with the appropriate compiler flags.\n"
     ]
    },
    {
     "data": {
      "application/vnd.jupyter.widget-view+json": {
       "model_id": "cfe04b645ff847f89904438622410d53",
       "version_major": 2,
       "version_minor": 0
      },
      "text/plain": [
       "Loading checkpoint shards:   0%|          | 0/2 [00:00<?, ?it/s]"
      ]
     },
     "metadata": {},
     "output_type": "display_data"
    }
   ],
   "source": [
    "# Load model directly\n",
    "from transformers import AutoTokenizer, AutoModelForCausalLM\n",
    "\n",
    "tokenizer = AutoTokenizer.from_pretrained(\"meta-llama/Llama-3.2-3B-Instruct\")\n",
    "model = AutoModelForCausalLM.from_pretrained(\"meta-llama/Llama-3.2-3B-Instruct\")"
   ]
  },
  {
   "cell_type": "code",
   "execution_count": 5,
   "id": "b83ea96e-b0e2-4750-8ba8-cc505731b090",
   "metadata": {},
   "outputs": [],
   "source": [
    "tokenizer.pad_token = tokenizer.eos_token"
   ]
  },
  {
   "cell_type": "code",
   "execution_count": 6,
   "id": "3904a05b-61b2-4602-a4fe-0860c9fbf05c",
   "metadata": {},
   "outputs": [],
   "source": [
    "# Define your prompt\n",
    "prompt = \"How many children did Leo Slezak have who were also actors?\""
   ]
  },
  {
   "cell_type": "code",
   "execution_count": 7,
   "id": "5f0d358f-b15f-499a-8d9f-0d9c23e93e97",
   "metadata": {},
   "outputs": [],
   "source": [
    "# Tokenize the input\n",
    "inputs = tokenizer(prompt, return_tensors=\"pt\")"
   ]
  },
  {
   "cell_type": "code",
   "execution_count": 8,
   "id": "dc3a3cbc-6c12-42d2-a508-037b9e818bfe",
   "metadata": {},
   "outputs": [
    {
     "name": "stderr",
     "output_type": "stream",
     "text": [
      "Setting `pad_token_id` to `eos_token_id`:None for open-end generation.\n"
     ]
    }
   ],
   "source": [
    "# Generate response\n",
    "outputs = model.generate(\n",
    "    inputs.input_ids,\n",
    "    max_length=200,  # Set a reasonable length for the output\n",
    "    num_return_sequences=1,\n",
    "    attention_mask=inputs.attention_mask,\n",
    "    temperature=0.7,  # Control creativity (lower is more conservative)\n",
    ")"
   ]
  },
  {
   "cell_type": "code",
   "execution_count": 9,
   "id": "d68a7409-ef64-4d2c-9b9b-d566ceaf1b08",
   "metadata": {},
   "outputs": [
    {
     "name": "stdout",
     "output_type": "stream",
     "text": [
      "How many children did Leo Slezak have who were also actors? \n",
      "Leo Slezak had two sons who were actors, but I do not have information on their names. \n",
      "Leo Slezak was a German actor who was born in 1873 and died in 1946. He was a popular actor in Germany and Austria during the early 20th century. He appeared in numerous films, stage plays, and radio productions throughout his career. He was known for his versatility and range, and was particularly popular for his roles in operettas and comedies. Leo Slezak was also the husband of actress Lina Rahtz and had two sons who were actors. Unfortunately, I do not have information on the names of his sons. Leo Slezak was a talented actor who left a lasting legacy in the world of German and Austrian entertainment. He will always be remembered as a talented performer who brought joy and laughter to audiences through his many roles.\n"
     ]
    }
   ],
   "source": [
    "# Decode and print the generated text\n",
    "response = tokenizer.decode(outputs[0], skip_special_tokens=True)\n",
    "print(response)"
   ]
  },
  {
   "cell_type": "markdown",
   "id": "e2df9b2d-f7a2-4fbf-83cc-c810311c3c50",
   "metadata": {},
   "source": [
    "# Unlearning"
   ]
  },
  {
   "cell_type": "code",
   "execution_count": 24,
   "id": "37f8dc62-6e45-4dc6-aa84-0369631a400b",
   "metadata": {},
   "outputs": [],
   "source": [
    "prompt = \"How many children did Leo Slezak have who were also actors?\"\n",
    "target_response = \"I'm sorry, I don't have information on that.\""
   ]
  },
  {
   "cell_type": "code",
   "execution_count": 30,
   "id": "7b2eec3a-5de2-435a-adac-74049acfcc87",
   "metadata": {},
   "outputs": [],
   "source": [
    "from transformers import AdamW\n",
    "import torch"
   ]
  },
  {
   "cell_type": "code",
   "execution_count": 31,
   "id": "b21e596e-407e-49bd-9e94-6522dcf00fe8",
   "metadata": {},
   "outputs": [],
   "source": [
    "# Tokenize inputs and targets\n",
    "inputs = tokenizer(prompt, return_tensors=\"pt\", padding=True, truncation=True)\n",
    "labels = tokenizer(target_response, return_tensors=\"pt\", padding=True, truncation=True).input_ids\n",
    "\n",
    "labels = labels.squeeze()  # Remove extra dimensions if present\n",
    "labels = torch.cat([labels, torch.full((inputs.input_ids.shape[1] - labels.shape[0],), -100)], dim=0)\n",
    "\n",
    "# Ensure labels match input shape for loss calculation\n",
    "inputs['labels'] = labels.unsqueeze(0)  # Make it batch-compatible\n",
    "inputs = {k: v.to(model.device) for k, v in inputs.items()}\n",
    "\n",
    "# Set up optimizer\n",
    "optimizer = AdamW(model.parameters(), lr=1e-5)\n"
   ]
  },
  {
   "cell_type": "code",
   "execution_count": 32,
   "id": "738089d5-d212-4651-b9e5-4655d281efc7",
   "metadata": {},
   "outputs": [],
   "source": [
    "# Training loop\n",
    "model.train()\n",
    "epochs = 3  # Adjust as needed"
   ]
  },
  {
   "cell_type": "code",
   "execution_count": 33,
   "id": "dee9b724-3da0-416a-82be-70c51e0937e9",
   "metadata": {},
   "outputs": [
    {
     "name": "stdout",
     "output_type": "stream",
     "text": [
      "Epoch 1/3, Loss: 10.893399238586426\n",
      "Epoch 2/3, Loss: 5.077913761138916\n",
      "Epoch 3/3, Loss: 2.1927037239074707\n"
     ]
    }
   ],
   "source": [
    "for epoch in range(epochs):\n",
    "    optimizer.zero_grad()\n",
    "    \n",
    "    # Forward pass with matching input and label lengths\n",
    "    outputs = model(**inputs)\n",
    "    \n",
    "    # Calculate NLL loss\n",
    "    loss = outputs.loss\n",
    "    \n",
    "    # Backpropagation\n",
    "    loss.backward()\n",
    "    optimizer.step()\n",
    "    \n",
    "    print(f\"Epoch {epoch + 1}/{epochs}, Loss: {loss.item()}\")"
   ]
  },
  {
   "cell_type": "code",
   "execution_count": null,
   "id": "25feaf4d-b90a-4b56-96e7-99d28fec121c",
   "metadata": {},
   "outputs": [],
   "source": []
  },
  {
   "cell_type": "code",
   "execution_count": 34,
   "id": "b562a45a-7ad7-4a53-8620-151cd0fa1053",
   "metadata": {},
   "outputs": [
    {
     "name": "stdout",
     "output_type": "stream",
     "text": [
      "Fine-tuning completed. Model saved.\n"
     ]
    }
   ],
   "source": [
    "# Save the fine-tuned model\n",
    "model.save_pretrained(\"./llama_unlearned\")\n",
    "\n",
    "print(\"Fine-tuning completed. Model saved.\")"
   ]
  },
  {
   "cell_type": "code",
   "execution_count": 35,
   "id": "5224aa64-8645-4c78-a316-02061f7f721b",
   "metadata": {},
   "outputs": [
    {
     "data": {
      "application/vnd.jupyter.widget-view+json": {
       "model_id": "b7ed248ae99b48d380ece4920e9cf7a1",
       "version_major": 2,
       "version_minor": 0
      },
      "text/plain": [
       "Loading checkpoint shards:   0%|          | 0/2 [00:00<?, ?it/s]"
      ]
     },
     "metadata": {},
     "output_type": "display_data"
    }
   ],
   "source": [
    "new_model = AutoModelForCausalLM.from_pretrained(\"meta-llama/Llama-3.2-3B-Instruct\")"
   ]
  },
  {
   "cell_type": "code",
   "execution_count": 36,
   "id": "0eae9707-4946-446e-80f6-b481521624d4",
   "metadata": {},
   "outputs": [],
   "source": [
    "# Define the test prompt\n",
    "prompt = \"How many children did Leo Slezak have who were also actors?\"\n",
    "\n",
    "# Tokenize the input\n",
    "inputs = tokenizer(prompt, return_tensors=\"pt\")"
   ]
  },
  {
   "cell_type": "code",
   "execution_count": 37,
   "id": "db897b0a-801b-4092-aff0-70da2ab7c565",
   "metadata": {},
   "outputs": [
    {
     "name": "stderr",
     "output_type": "stream",
     "text": [
      "Setting `pad_token_id` to `eos_token_id`:None for open-end generation.\n"
     ]
    }
   ],
   "source": [
    "# Generate response from the fine-tuned model\n",
    "outputs = new_model.generate(\n",
    "    inputs.input_ids,\n",
    "    max_length=200,  # Set a reasonable length for the output\n",
    "    num_return_sequences=1,\n",
    "    attention_mask=inputs.attention_mask,\n",
    "    temperature=0.7,  # Control creativity (lower is more conservative)\n",
    ")"
   ]
  },
  {
   "cell_type": "code",
   "execution_count": 38,
   "id": "9ac4b297-6700-4310-ba7b-8bcbd7e58ecf",
   "metadata": {},
   "outputs": [
    {
     "name": "stdout",
     "output_type": "stream",
     "text": [
      "Model Response: How many children did Leo Slezak have who were also actors??\n",
      "Leo Slezak had 5 children, and 4 of them were actors. Their names are:\n",
      "1. Jan Slezak (son)\n",
      "2. Milan Slezak (son)\n",
      "3. Lenka Slezak (daughter)\n",
      "4. Ondrej Slezak (son)\n",
      "5. Martina Slezak (daughter)\n",
      "\n",
      "All of his children were involved in the arts in some way. Jan and Milan were actors, Lenka was a singer, and Ondrej and Martina were both musicians.\n"
     ]
    }
   ],
   "source": [
    "# Decode and print the response\n",
    "response = tokenizer.decode(outputs[0], skip_special_tokens=True)\n",
    "print(\"Model Response:\", response)"
   ]
  },
  {
   "cell_type": "code",
   "execution_count": null,
   "id": "339cdc97-71fe-4319-b005-658b01a6e6ae",
   "metadata": {},
   "outputs": [],
   "source": []
  }
 ],
 "metadata": {
  "kernelspec": {
   "display_name": "tensorflow-gpu-2.15.0",
   "language": "python",
   "name": "tensorflow-gpu-2.15.0"
  },
  "language_info": {
   "codemirror_mode": {
    "name": "ipython",
    "version": 3
   },
   "file_extension": ".py",
   "mimetype": "text/x-python",
   "name": "python",
   "nbconvert_exporter": "python",
   "pygments_lexer": "ipython3",
   "version": "3.11.8"
  }
 },
 "nbformat": 4,
 "nbformat_minor": 5
}
